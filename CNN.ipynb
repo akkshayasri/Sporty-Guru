{
  "nbformat": 4,
  "nbformat_minor": 0,
  "metadata": {
    "colab": {
      "name": "CNN.ipynb",
      "provenance": [],
      "authorship_tag": "ABX9TyN/8/dzMHB/hs8dZx2QjAa1",
      "include_colab_link": true
    },
    "kernelspec": {
      "name": "python3",
      "display_name": "Python 3"
    },
    "language_info": {
      "name": "python"
    }
  },
  "cells": [
    {
      "cell_type": "markdown",
      "metadata": {
        "id": "view-in-github",
        "colab_type": "text"
      },
      "source": [
        "<a href=\"https://colab.research.google.com/github/akkshayasri/Sporty-Guru/blob/main/CNN.ipynb\" target=\"_parent\"><img src=\"https://colab.research.google.com/assets/colab-badge.svg\" alt=\"Open In Colab\"/></a>"
      ]
    },
    {
      "cell_type": "code",
      "metadata": {
        "colab": {
          "base_uri": "https://localhost:8080/"
        },
        "id": "uv-HbQ2zXyry",
        "outputId": "1ca16484-17ae-48eb-bc1a-d05e2af82be5"
      },
      "source": [
        "#importing required libraries..\n",
        "import tensorflow as tf\n",
        "import numpy as np\n",
        "import matplotlib.pyplot as plt\n",
        "\n",
        "#checking tensorflow version...\n",
        "print(tf.__version__)\n",
        "\n",
        "#loading the dataset...\n",
        "cifar=tf.keras.datasets.cifar10\n",
        "(training_images,training_labels),(testing_images,testing_labels)=cifar.load_data()\n",
        "\n",
        "#assigning names of labels from 0 to 9 to array 'names'...\n",
        "names=['airplane','automobile','bird','cat','deer','dog','frog','horse','ship','truck']\n",
        "\n",
        "#checking the shape of images ...\n",
        "training_images.shape\n",
        "\n",
        "\n",
        "\n",
        "#checking shape of labels...\n",
        "training_labels.shape\n",
        "\n",
        "#reshaping training and testing images to a single 4D list..\n",
        "training_images=training_images.reshape(50000,32,32,3)\n",
        "testing_images=testing_images.reshape(10000,32,32,3)"
      ],
      "execution_count": 1,
      "outputs": [
        {
          "output_type": "stream",
          "text": [
            "2.5.0\n",
            "Downloading data from https://www.cs.toronto.edu/~kriz/cifar-10-python.tar.gz\n",
            "170500096/170498071 [==============================] - 3s 0us/step\n"
          ],
          "name": "stdout"
        }
      ]
    },
    {
      "cell_type": "code",
      "metadata": {
        "colab": {
          "base_uri": "https://localhost:8080/"
        },
        "id": "iwIVYzzkYFDn",
        "outputId": "9d39f37d-076f-4b30-d557-2545f7c65d9d"
      },
      "source": [
        "#dividing image pixel by 255 so that pixel comes in range 0 to 1...\n",
        "training_images=training_images/255.0\n",
        "testing_images=testing_images/255.0\n",
        "\n",
        "#defining the model...\n",
        "model=tf.keras.models.Sequential([\n",
        "  tf.keras.layers.Conv2D(64, (3,3), activation='relu', input_shape=(32, 32, 3)),\n",
        "  tf.keras.layers.MaxPooling2D(2, 2),\n",
        "  tf.keras.layers.Conv2D(64, (3,3), activation='relu'),\n",
        "  tf.keras.layers.MaxPooling2D(2,2),\n",
        "  tf.keras.layers.Flatten(),\n",
        "  tf.keras.layers.Dense(128, activation='relu'),\n",
        "  tf.keras.layers.Dense(10, activation='softmax')\n",
        "])\n",
        "\n",
        "#compiling the model...\n",
        "model.compile(optimizer='adam', loss='sparse_categorical_crossentropy', metrics=['accuracy'])\n",
        "\n",
        "#training data to the model...\n",
        "model.fit(training_images,training_labels,epochs=8)\n",
        "\n"
      ],
      "execution_count": null,
      "outputs": [
        {
          "output_type": "stream",
          "text": [
            "Epoch 1/8\n",
            "1563/1563 [==============================] - 111s 71ms/step - loss: 1.4291 - accuracy: 0.4881\n",
            "Epoch 2/8\n",
            "1563/1563 [==============================] - 108s 69ms/step - loss: 1.0758 - accuracy: 0.6235\n",
            "Epoch 3/8\n",
            "1563/1563 [==============================] - 109s 70ms/step - loss: 0.9267 - accuracy: 0.6783\n",
            "Epoch 4/8\n",
            "1563/1563 [==============================] - 108s 69ms/step - loss: 0.8307 - accuracy: 0.7102\n",
            "Epoch 5/8\n",
            "1563/1563 [==============================] - 107s 69ms/step - loss: 0.7463 - accuracy: 0.7410\n",
            "Epoch 6/8\n",
            "1563/1563 [==============================] - 107s 69ms/step - loss: 0.6726 - accuracy: 0.7664\n",
            "Epoch 7/8\n",
            "1563/1563 [==============================] - 107s 68ms/step - loss: 0.6092 - accuracy: 0.7877\n",
            "Epoch 8/8\n",
            " 610/1563 [==========>...................] - ETA: 1:05 - loss: 0.5250 - accuracy: 0.8172"
          ],
          "name": "stdout"
        }
      ]
    },
    {
      "cell_type": "code",
      "metadata": {
        "id": "ETpamRrKj2iA",
        "outputId": "41d365d9-32f4-406b-deb9-a18263260459",
        "colab": {
          "base_uri": "https://localhost:8080/"
        }
      },
      "source": [
        "#evaluating the model for testing data..\n",
        "test_loss,test_acc=model.evaluate(testing_images,testing_labels)\n",
        "\n",
        "print(\"Test accuracy:\",test_acc)"
      ],
      "execution_count": 5,
      "outputs": [
        {
          "output_type": "stream",
          "text": [
            "313/313 [==============================] - 6s 18ms/step - loss: 1.0073 - accuracy: 0.6802\n",
            "Test accuracy: 0.6801999807357788\n"
          ],
          "name": "stdout"
        }
      ]
    },
    {
      "cell_type": "code",
      "metadata": {
        "colab": {
          "base_uri": "https://localhost:8080/"
        },
        "id": "Hfml9eu0YR5V",
        "outputId": "5649dec2-b119-4598-ca5e-a5191703c742"
      },
      "source": [
        "#predicting the data...\n",
        "predictions=model.predict(testing_images)\n",
        "\n",
        "#printing data predicted for 2nd index..\n",
        "print(names[np.argmax(predictions[1])])\n",
        "\n",
        "#actual data at index 2...\n",
        "print(names[testing_labels[2][0]])"
      ],
      "execution_count": 4,
      "outputs": [
        {
          "output_type": "stream",
          "text": [
            "ship\n",
            "ship\n"
          ],
          "name": "stdout"
        }
      ]
    }
  ]
}