{
  "nbformat": 4,
  "nbformat_minor": 0,
  "metadata": {
    "colab": {
      "name": "NetA.ipynb",
      "provenance": [],
      "authorship_tag": "ABX9TyOuCYZ5Q+5OshG9tEWWi4Pq",
      "include_colab_link": true
    },
    "kernelspec": {
      "name": "python3",
      "display_name": "Python 3"
    },
    "language_info": {
      "name": "python"
    }
  },
  "cells": [
    {
      "cell_type": "markdown",
      "metadata": {
        "id": "view-in-github",
        "colab_type": "text"
      },
      "source": [
        "<a href=\"https://colab.research.google.com/github/akkshayasri/Sporty-Guru/blob/main/NetA.ipynb\" target=\"_parent\"><img src=\"https://colab.research.google.com/assets/colab-badge.svg\" alt=\"Open In Colab\"/></a>"
      ]
    },
    {
      "cell_type": "code",
      "metadata": {
        "id": "oWcAIJDOVXn5"
      },
      "source": [
        "import tensorflow as tf\n",
        "import numpy as np\n",
        "import matplotlib.pyplot as plt"
      ],
      "execution_count": 1,
      "outputs": []
    },
    {
      "cell_type": "code",
      "metadata": {
        "colab": {
          "base_uri": "https://localhost:8080/"
        },
        "id": "ZuxIY-DVVgmC",
        "outputId": "608345c4-0c41-46cf-a224-d87b15cc9d24"
      },
      "source": [
        "cifar=tf.keras.datasets.cifar10\n",
        "(training_images,training_labels),(testing_images,testing_labels)=cifar.load_data()"
      ],
      "execution_count": 2,
      "outputs": [
        {
          "output_type": "stream",
          "text": [
            "Downloading data from https://www.cs.toronto.edu/~kriz/cifar-10-python.tar.gz\n",
            "170500096/170498071 [==============================] - 2s 0us/step\n"
          ],
          "name": "stdout"
        }
      ]
    },
    {
      "cell_type": "code",
      "metadata": {
        "id": "P70t7kH3Vrin"
      },
      "source": [
        "names=['airplane','automobile','bird','cat','deer','dog','frog','horse','ship','truck']"
      ],
      "execution_count": 3,
      "outputs": []
    },
    {
      "cell_type": "code",
      "metadata": {
        "id": "xwQXrVr7VzFR"
      },
      "source": [
        "#checking the shape of images ...\n",
        "training_images.shape\n",
        "\n",
        "#checking shape of labels...\n",
        "training_labels.shape\n",
        "\n",
        "#dividing image pixel by 255 so that pixel comes in range 0 to 1...\n",
        "training_images=training_images/255.0\n",
        "testing_images=testing_images/255.0\n"
      ],
      "execution_count": 6,
      "outputs": []
    },
    {
      "cell_type": "code",
      "metadata": {
        "id": "gFvZVomEV--s"
      },
      "source": [
        "#defining the model...\n",
        "model=tf.keras.Sequential([\n",
        "    tf.keras.layers.Flatten(input_shape=(32,32,3)),\n",
        "    tf.keras.layers.Dense(128,activation='relu'),\n",
        "    tf.keras.layers.Dense(128,activation='relu'),\n",
        "    tf.keras.layers.Dense(10,activation='softmax')\n",
        "])"
      ],
      "execution_count": 7,
      "outputs": []
    },
    {
      "cell_type": "code",
      "metadata": {
        "colab": {
          "base_uri": "https://localhost:8080/"
        },
        "id": "_tNw7-K4WD67",
        "outputId": "a0816900-5c7e-4708-9569-eb4389f29aac"
      },
      "source": [
        "#compiling the model...\n",
        "model.compile(optimizer='adam',loss='sparse_categorical_crossentropy',metrics=['accuracy'])\n",
        "\n",
        "#training data to the model...\n",
        "model.fit(training_images,training_labels,epochs=10)\n",
        "\n",
        "#evaluating the model for testing data..\n",
        "test_loss,test_acc=model.evaluate(testing_images,testing_labels)"
      ],
      "execution_count": 25,
      "outputs": [
        {
          "output_type": "stream",
          "text": [
            "Epoch 1/10\n",
            "1563/1563 [==============================] - 9s 6ms/step - loss: 2.3028 - accuracy: 0.0992\n",
            "Epoch 2/10\n",
            "1563/1563 [==============================] - 6s 4ms/step - loss: 2.3028 - accuracy: 0.0972\n",
            "Epoch 3/10\n",
            "1563/1563 [==============================] - 6s 4ms/step - loss: 2.3028 - accuracy: 0.0966\n",
            "Epoch 4/10\n",
            "1563/1563 [==============================] - 6s 4ms/step - loss: 2.3028 - accuracy: 0.0987\n",
            "Epoch 5/10\n",
            "1563/1563 [==============================] - 6s 4ms/step - loss: 2.3028 - accuracy: 0.0988\n",
            "Epoch 6/10\n",
            "1563/1563 [==============================] - 6s 4ms/step - loss: 2.3028 - accuracy: 0.0982\n",
            "Epoch 7/10\n",
            "1563/1563 [==============================] - 6s 4ms/step - loss: 2.3028 - accuracy: 0.0992\n",
            "Epoch 8/10\n",
            "1563/1563 [==============================] - 6s 4ms/step - loss: 2.3028 - accuracy: 0.0990\n",
            "Epoch 9/10\n",
            "1563/1563 [==============================] - 6s 4ms/step - loss: 2.3028 - accuracy: 0.0975\n",
            "Epoch 10/10\n",
            "1563/1563 [==============================] - 6s 4ms/step - loss: 2.3028 - accuracy: 0.0973\n",
            "313/313 [==============================] - 1s 2ms/step - loss: 2.3026 - accuracy: 0.1000\n"
          ],
          "name": "stdout"
        }
      ]
    },
    {
      "cell_type": "code",
      "metadata": {
        "colab": {
          "base_uri": "https://localhost:8080/"
        },
        "id": "oVpnU7eBWLBv",
        "outputId": "2276a257-ec07-4b81-f873-4f7b596eb140"
      },
      "source": [
        "print(\"Test accuracy:\",test_acc)\n"
      ],
      "execution_count": 26,
      "outputs": [
        {
          "output_type": "stream",
          "text": [
            "Test accuracy: 0.10000000149011612\n"
          ],
          "name": "stdout"
        }
      ]
    },
    {
      "cell_type": "code",
      "metadata": {
        "id": "bqRYIVtSWUvV"
      },
      "source": [
        "#predicting the data...\n",
        "predictions=model.predict(testing_images)"
      ],
      "execution_count": 27,
      "outputs": []
    },
    {
      "cell_type": "code",
      "metadata": {
        "colab": {
          "base_uri": "https://localhost:8080/"
        },
        "id": "rUrD90NKWP1i",
        "outputId": "ee385f8e-1744-4e82-fdae-2efc26f76e59"
      },
      "source": [
        "#printing data predicted for 2nd index..\n",
        "print(names[np.argmax(predictions[2])])\n"
      ],
      "execution_count": 28,
      "outputs": [
        {
          "output_type": "stream",
          "text": [
            "horse\n"
          ],
          "name": "stdout"
        }
      ]
    },
    {
      "cell_type": "code",
      "metadata": {
        "colab": {
          "base_uri": "https://localhost:8080/"
        },
        "id": "Gb4NIJALWbtv",
        "outputId": "3a547047-6335-44d1-9cfe-a1cfff51ed9c"
      },
      "source": [
        "#actual data at index 2...\n",
        "print(names[testing_labels[2][0]])"
      ],
      "execution_count": 29,
      "outputs": [
        {
          "output_type": "stream",
          "text": [
            "ship\n"
          ],
          "name": "stdout"
        }
      ]
    }
  ]
}